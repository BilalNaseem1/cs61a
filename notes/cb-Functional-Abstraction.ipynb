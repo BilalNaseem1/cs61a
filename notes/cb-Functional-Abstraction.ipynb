{
 "cells": [
  {
   "cell_type": "markdown",
   "metadata": {},
   "source": [
    "- [Lambda Function Environments]()\n",
    "- [Return]()\n",
    "- [Abstraction]()\n",
    "- [Errors and Tracebacks]()"
   ]
  },
  {
   "cell_type": "markdown",
   "metadata": {},
   "source": [
    "## Return Statements"
   ]
  },
  {
   "cell_type": "markdown",
   "metadata": {},
   "source": [
    "- Returning a function call means ending a function call and determining what is the value of the call expression.\n",
    "- A return statement completes the evaluation of a call expression and provides its value."
   ]
  },
  {
   "cell_type": "markdown",
   "metadata": {},
   "source": [
    "- So when we reach a call expression like `f(x)` for some user defined function `f` - we switch to a new environment, and then executes `f`'s body.\n",
    "- We're doing this to evaluate what is the value of f(x)\n",
    "- When the return statement within `f` is reached, we switch back to the previous environment, and now f(x) has a value.\n",
    "- Only one return statement is evaluated while evaluating the body of a function."
   ]
  },
  {
   "cell_type": "markdown",
   "metadata": {},
   "source": [
    "- return as none is a way of ending the while statement"
   ]
  },
  {
   "cell_type": "code",
   "execution_count": 11,
   "metadata": {},
   "outputs": [
    {
     "name": "stdout",
     "output_type": "stream",
     "text": [
      "7\n",
      "6\n",
      "5\n"
     ]
    }
   ],
   "source": [
    "def end(n, d):\n",
    "    \"\"\"\n",
    "    print the final digits of N in reverse order until D is found\n",
    "    i.e.\n",
    "    >>> end(34567, 5)\n",
    "    7\n",
    "    6\n",
    "    5\n",
    "    \"\"\"\n",
    "    while n > 0:\n",
    "        last, n = n%10, n //10\n",
    "        print(last)\n",
    "        if last == d:\n",
    "            return None\n",
    "\n",
    "end(34567, 5)"
   ]
  },
  {
   "cell_type": "markdown",
   "metadata": {},
   "source": [
    "## Abstraction"
   ]
  },
  {
   "cell_type": "markdown",
   "metadata": {},
   "source": [
    "- Functional abstraction is a way of giving a name to some computational process, and then referring to that process as a whole without worrying about its computational details.\n",
    "- Function names should convey meaning and purpose"
   ]
  },
  {
   "cell_type": "markdown",
   "metadata": {},
   "source": [
    "## Errors and Tracebacks"
   ]
  },
  {
   "cell_type": "markdown",
   "metadata": {},
   "source": [
    "- There are 3 types of errors:\n",
    "    1. Detect before starting - syntax\n",
    "    2. Runtime errors - detected by the interpreter when the program is executing.\n",
    "        - When this occurs, we see a traceback\n",
    "    3. Logical/Behavioural error - wont be detected by python - It does the wrong thing.\n",
    "        - Need to write tests for this."
   ]
  }
 ],
 "metadata": {
  "kernelspec": {
   "display_name": "Python 3",
   "language": "python",
   "name": "python3"
  },
  "language_info": {
   "codemirror_mode": {
    "name": "ipython",
    "version": 3
   },
   "file_extension": ".py",
   "mimetype": "text/x-python",
   "name": "python",
   "nbconvert_exporter": "python",
   "pygments_lexer": "ipython3",
   "version": "3.11.10"
  }
 },
 "nbformat": 4,
 "nbformat_minor": 2
}
