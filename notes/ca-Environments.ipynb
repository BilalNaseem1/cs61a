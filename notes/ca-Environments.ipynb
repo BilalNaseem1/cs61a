{
 "cells": [
  {
   "cell_type": "markdown",
   "metadata": {},
   "source": [
    "# ca - Environments"
   ]
  },
  {
   "cell_type": "markdown",
   "metadata": {},
   "source": [
    "- [Environments for Higher-Order Functions]()\n",
    "- [Environments for Nested Definitions]()\n",
    "- [Local Names]()\n",
    "- [Function Composition]()\n",
    "- [Function Currying]()"
   ]
  },
  {
   "cell_type": "markdown",
   "metadata": {},
   "source": []
  }
 ],
 "metadata": {
  "language_info": {
   "name": "python"
  }
 },
 "nbformat": 4,
 "nbformat_minor": 2
}
